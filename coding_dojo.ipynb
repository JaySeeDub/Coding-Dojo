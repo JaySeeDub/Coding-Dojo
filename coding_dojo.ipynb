{
 "cells": [
  {
   "cell_type": "markdown",
   "id": "bbb4258a",
   "metadata": {},
   "source": [
    "# Coding Dojo Working Notebook: Plotting Jet Kinematic Variables\n",
    "\n",
    "## Jet Basics\n",
    "\n",
    "Protons are composed of gluons and quarks. When protons collide at high eneries at the LHC, these consituents can fly apart. However, due to a principle called color confinment which dictates that color-charged particles such as quarks and gluons cannot be in isolation, these free quarks/gluons undergo a process called hadronization in which they combine with quarks and antiquarks spontaneously created from the vacuum, thus producing color-neutral particles.\n",
    "\n",
    "This hadronization process results in a shower of particles known as a jet. To distinguish between particles that come from quarks/gluons (jets) and those from other processes, we employ clustering algorithms which compute a measure of distance and combine particles that meet specific criteria. The measure of distance between a pair of particles is given by:\n",
    "\n",
    "$$\n",
    "d_{ij} = \\min\\left(p_{ti}^{2p}, p_{tj}^{2p}\\right)\\frac{\\Delta R_{ij}^2}{R^2}\n",
    "$$\n",
    "\n",
    "Particles are combined if $d_{ij} < d_{iB}$ and the iteration process stops once $d_{ij}>d_{iB}$. The parameter $p$ depends on the algorithm being used:\n",
    "* KT algorithm: $p=1$\n",
    "* Cambridge Aachen algorithm (CA): $p=0$\n",
    "* antiKT (AK) algorithm: $p=-1$\n",
    "\n",
    "For the anti-KT algorithm, jet cones can have one of two radii: $R=0.8$ for AK8 (\"fat jets\") and $R=0.4$ for AK4.\n",
    "\n",
    "In this Coding Dojo, you will be plotting the kinematic variables of AK4 jets, namely the mass, the $p_T$, the pseudotapidity ($\\eta$) and the azimuthal angle ($\\phi$)."
   ]
  },
  {
   "cell_type": "markdown",
   "id": "57c99a3a",
   "metadata": {},
   "source": [
    "## Setup\n",
    "\n",
    "If you do not already have the data, go back to your terminal and do so. (Hint: Look up what `wget` does and how it works.)"
   ]
  },
  {
   "cell_type": "markdown",
   "id": "fdc2d53b",
   "metadata": {},
   "source": [
    "## Instructions\n",
    "For AK4 jets, plot histograms for each of the kinematic variables using the tools specified in the following table.\n",
    "\n",
    "<table>\n",
    "  <tr>\n",
    "    <th>AK4 Jet Kinematic Variable</th>\n",
    "    <th>Tools to Plot With</th>\n",
    "  </tr>\n",
    "  <tr>\n",
    "    <td>Jet eta</td>\n",
    "    <td>PyROOT</td>\n",
    "  </tr>\n",
    "  <tr>\n",
    "    <td>Jet phi</td>\n",
    "    <td>RDataFrame</td>\n",
    "  </tr>\n",
    "  <tr>\n",
    "    <td>Jet pt</td>\n",
    "    <td>Uproot, Hist</td>\n",
    "  </tr>\n",
    "  <tr>\n",
    "    <td>Jet mass</td>\n",
    "    <td>Matplotlib</td>\n",
    "  </tr>\n",
    "</table>\n",
    "\n",
    "If you finish before time is up, there is an extra exercise"
   ]
  },
  {
   "cell_type": "markdown",
   "id": "0011e267",
   "metadata": {},
   "source": [
    "## Hints:\n",
    "1. Check the content of data.root (e.g. What is the name of the TTree?)\n",
    "    - The file contains multipe TTrees\n",
    "    - Only the **first** one is relavent to this exercise\n",
    "2. Check the content of TTree (e.g. What branches does TTree have? What is the branch name of the quantity that we want to plot?)\n",
    "3. Fill a histogram using the branch and draw"
   ]
  },
  {
   "cell_type": "code",
   "execution_count": null,
   "id": "dcef9833",
   "metadata": {},
   "outputs": [],
   "source": [
    "# check the content of data.root:\n"
   ]
  },
  {
   "cell_type": "markdown",
   "id": "469f9fb1",
   "metadata": {},
   "source": [
    "## `PyROOT` for AK4 Jet $\\eta$\n",
    "\n",
    "**To-do**: Plot a histogram for jet $\\eta$ using PyROOT\n",
    "\n",
    "**Link to PyROOT tutorials:** https://github.com/Ari-mu-l/software-carpentry"
   ]
  },
  {
   "cell_type": "markdown",
   "id": "30b49196",
   "metadata": {},
   "source": [
    "Import relavent package(s)"
   ]
  },
  {
   "cell_type": "code",
   "execution_count": null,
   "id": "eb27a1fe",
   "metadata": {},
   "outputs": [],
   "source": []
  },
  {
   "cell_type": "markdown",
   "id": "5d65c2af",
   "metadata": {},
   "source": [
    "Read the ROOT File"
   ]
  },
  {
   "cell_type": "code",
   "execution_count": null,
   "id": "4a9ca170",
   "metadata": {},
   "outputs": [],
   "source": []
  },
  {
   "cell_type": "markdown",
   "id": "b293b8cd",
   "metadata": {},
   "source": [
    "Load the Tree from the ROOT file (Use the name of the first TTree from the step \"check the content of data.root\")"
   ]
  },
  {
   "cell_type": "code",
   "execution_count": null,
   "id": "6a69bc25",
   "metadata": {},
   "outputs": [],
   "source": []
  },
  {
   "cell_type": "markdown",
   "id": "bb85fc39",
   "metadata": {},
   "source": [
    "Check the branch names of the ttree and select the desired branch (jet eta)\n",
    "\n",
    "- Hint1: Use the Print() function\n",
    "\n",
    "- Hint2: We often act on an object with the format of \\<object\\>.\\<some function\\> like hist.Draw()\n",
    "\n",
    "- Hint3: If you cannot figure it out, try to google for answers!"
   ]
  },
  {
   "cell_type": "code",
   "execution_count": null,
   "id": "d8344701",
   "metadata": {},
   "outputs": [],
   "source": []
  },
  {
   "cell_type": "markdown",
   "id": "36819d5e",
   "metadata": {},
   "source": [
    "Create a canvas to plot the histogram"
   ]
  },
  {
   "cell_type": "code",
   "execution_count": null,
   "id": "8474f36e",
   "metadata": {},
   "outputs": [],
   "source": []
  },
  {
   "cell_type": "markdown",
   "id": "446a19b1",
   "metadata": {},
   "source": [
    "Create an empty Histogram to plot the AK4 Jet $\\eta$\n",
    "\n",
    "- Requirement: Range from -6 to 6. Split into 100 bins."
   ]
  },
  {
   "cell_type": "code",
   "execution_count": null,
   "id": "040fdb01",
   "metadata": {},
   "outputs": [],
   "source": []
  },
  {
   "cell_type": "markdown",
   "id": "9fdad09f",
   "metadata": {},
   "source": [
    "Fill the histogram with jet $\\eta$\n",
    "\n",
    "- The code has been written for you.\n",
    "\n",
    "- Read the code and explain what each line is doing with the help of the documentation: https://root.cern.ch/doc/master/classTTree.html .\n",
    "  If it doesn't contain everything you need, use google.\n",
    "\n",
    "Write it down in this cell (double click to edit) or leave comments in the code:"
   ]
  },
  {
   "cell_type": "code",
   "execution_count": null,
   "id": "61c119ba",
   "metadata": {},
   "outputs": [],
   "source": [
    "nEntries = tree.GetEntries()\n",
    "\n",
    "for i in range(nEntries):\n",
    "    if(tree.GetEntry(i)>0):\n",
    "        for j in range(len(tree.Jet_eta)): # Loop through all the jets in each event\n",
    "             hist.Fill(tree.Jet_eta[j])"
   ]
  },
  {
   "cell_type": "markdown",
   "id": "b82badfe",
   "metadata": {},
   "source": [
    "Draw the histogram on canvas"
   ]
  },
  {
   "cell_type": "code",
   "execution_count": null,
   "id": "854cf178",
   "metadata": {},
   "outputs": [],
   "source": []
  },
  {
   "cell_type": "markdown",
   "id": "1f7bd48c",
   "metadata": {},
   "source": [
    "## `RDataFrame` for AK4 Jet $\\phi$\n",
    "\n",
    "**To-do**: Plot the distribution of jet $\\phi$\n",
    "\n",
    "**Requirement**: the histogram should range from -2 to 2 and have 10 bins\n",
    "\n",
    "**Documentation** of relavent functions: https://root.cern/doc/master/classROOT_1_1RDataFrame.html"
   ]
  },
  {
   "cell_type": "markdown",
   "id": "dc3af14a",
   "metadata": {},
   "source": [
    "Import relavent package (hint: ROOT)"
   ]
  },
  {
   "cell_type": "code",
   "execution_count": null,
   "id": "688db16f",
   "metadata": {},
   "outputs": [],
   "source": []
  },
  {
   "cell_type": "markdown",
   "id": "1df3199c",
   "metadata": {},
   "source": [
    "Load TTree into a RDataFrame (aka create a RDataFrame with the content in TTree)"
   ]
  },
  {
   "cell_type": "code",
   "execution_count": null,
   "id": "b8970a62",
   "metadata": {},
   "outputs": [],
   "source": []
  },
  {
   "cell_type": "markdown",
   "id": "d33c9d48",
   "metadata": {},
   "source": [
    "Check the column names"
   ]
  },
  {
   "cell_type": "code",
   "execution_count": null,
   "id": "b6387126",
   "metadata": {},
   "outputs": [],
   "source": []
  },
  {
   "cell_type": "markdown",
   "id": "b1b3e8d8",
   "metadata": {},
   "source": [
    "Fill a histogram with the desired branch\n",
    "\n",
    "- Requirement: the histogram should range from -2 to 2 and have 10 bins"
   ]
  },
  {
   "cell_type": "code",
   "execution_count": null,
   "id": "3dc8a81a",
   "metadata": {},
   "outputs": [],
   "source": []
  },
  {
   "cell_type": "markdown",
   "id": "d956bf64",
   "metadata": {},
   "source": [
    "Plot histogram"
   ]
  },
  {
   "cell_type": "code",
   "execution_count": null,
   "id": "e863cfc0",
   "metadata": {},
   "outputs": [],
   "source": []
  },
  {
   "cell_type": "markdown",
   "id": "bf05c27c",
   "metadata": {},
   "source": [
    "## `Hist` for Jet $p_T$"
   ]
  },
  {
   "cell_type": "markdown",
   "id": "145c2763",
   "metadata": {},
   "source": [
    "**To-do**: Plot the distribution of Jet $p_T$\n",
    "\n",
    "**Requirement**: the histogram should range from 0 to 500 and have 500 bins\n",
    "\n",
    "**Link to Uproot tutorial**: \n",
    "https://hsf-training.github.io/hsf-training-scikit-hep-webpage/"
   ]
  },
  {
   "cell_type": "markdown",
   "id": "6a22becd",
   "metadata": {},
   "source": [
    "Import relavent packages (hint: Hist from hist, awkward, uproot)"
   ]
  },
  {
   "cell_type": "code",
   "execution_count": null,
   "id": "3c027273",
   "metadata": {},
   "outputs": [],
   "source": []
  },
  {
   "cell_type": "markdown",
   "id": "ecd334d6",
   "metadata": {},
   "source": [
    "Load data.root data into a variable with uproot"
   ]
  },
  {
   "cell_type": "code",
   "execution_count": null,
   "id": "18da5600",
   "metadata": {},
   "outputs": [],
   "source": []
  },
  {
   "cell_type": "markdown",
   "id": "9933cf1e",
   "metadata": {},
   "source": [
    "Use the .array() method to extract Jet_pt data with library='ak'. Search for Jet_pt in 'Events' TTree"
   ]
  },
  {
   "cell_type": "code",
   "execution_count": null,
   "id": "5940f1ba",
   "metadata": {},
   "outputs": [],
   "source": []
  },
  {
   "cell_type": "markdown",
   "id": "dcdc4b47",
   "metadata": {},
   "source": [
    "Flatten the Jet_pt data"
   ]
  },
  {
   "cell_type": "code",
   "execution_count": null,
   "id": "763e4040",
   "metadata": {},
   "outputs": [],
   "source": []
  },
  {
   "cell_type": "markdown",
   "id": "7ea0459e",
   "metadata": {},
   "source": [
    "Create, fill and plot a histogram:\n",
    "- Requirement: the histogram should range from 0 to 500 and have 500 bins"
   ]
  },
  {
   "cell_type": "code",
   "execution_count": null,
   "id": "8e726780",
   "metadata": {},
   "outputs": [],
   "source": []
  },
  {
   "cell_type": "markdown",
   "id": "ff42daa5",
   "metadata": {},
   "source": [
    "## `Matplotlib` for AK4 Jet mass"
   ]
  },
  {
   "cell_type": "markdown",
   "id": "2bcd7ea3",
   "metadata": {},
   "source": [
    "This is probably the longest method of making plots with our data. So we've provided detailed instructions and starter code. \n",
    "\n",
    "Reuse the code from the Hist section i.e. :\n",
    "\n",
    "1. Open the file with uproot\n",
    "2. Get the Jet_mass branch and get the awkard array.\n",
    "3. Make the histogram by flattening and using `<myhist>.fill()`. *However this time do not use `<myhist>.plot()`*.\n",
    "\n",
    "`Hist` calls `matplotlib.pyplot` internally and allows you to make quick plots. Now that you were able to plot the histogram with hist objects in the past section, it is your turn to make it look pretty.\n",
    "\n",
    "**To Do**\n",
    "\n",
    "Instead of using the `hist.Hist.plot1d()` to plot the histogram we are going to use the `<myhist>.to_numpy()` to get the bin edges and bin contents like `np.histogram()` would normally return.\n",
    "\n",
    "**Requirements**:\n",
    "\n",
    "1. Make the histogram filled with red color\n",
    "1. Add a legend\n",
    "1. Set the y-scale to \"log\"\n",
    "1. Add a title at the top of the plot that says \"Jet Mass Distribution\"\n",
    "1. Add a label on the x axis that says \"Jet Mass [GeV]\"\n",
    "1. Set the words \"Count\" as the y axis label\n",
    "\n",
    "**HINT**\n",
    "\n",
    "Use google for adding stuff in matplotlib. Take this code as a starting point.\n",
    "```python\n",
    "# In order to use bin edges from a pre-binned histogram you need to do the following\n",
    "fig, ax = plt.subplots()\n",
    "values , edges = <myhist>.to_numpy()\n",
    "ax.hist(x = edges[:-1], bins = edges, weights = values)\n",
    "# where values and edges come from the output of <myhist>.to_numpy()\n",
    "\n",
    "plt.show()\n",
    "```\n",
    "\n",
    "**Optional**\n",
    "\n",
    "If you haven't heard about it, try out `mplhep`. If it's not avaialable, install it with `pip install mplhep` and use the following\n",
    "\n",
    "```python\n",
    "import mplhep as hep\n",
    "hep.style.use(\"CMS\")\n",
    "```\n",
    "\n",
    "This will now make your plots look nicer and closer to publication style!\n",
    "\n",
    "For extra points try to add the *CMS Experiment* label at the top with `mplhep`. (Google is your friend!!)"
   ]
  },
  {
   "cell_type": "code",
   "execution_count": null,
   "id": "1aae3f61",
   "metadata": {},
   "outputs": [],
   "source": [
    "import matplotlib.pyplot as plt\n",
    "import numpy as np\n",
    "import uproot\n",
    "import hist\n",
    "import awkward as ak"
   ]
  },
  {
   "cell_type": "markdown",
   "id": "0b0f0f08",
   "metadata": {},
   "source": [
    "Reuse the code from the `Hist` section."
   ]
  },
  {
   "cell_type": "code",
   "execution_count": null,
   "id": "458a00f1",
   "metadata": {},
   "outputs": [],
   "source": []
  },
  {
   "cell_type": "code",
   "execution_count": null,
   "id": "0100cf4c",
   "metadata": {},
   "outputs": [],
   "source": []
  },
  {
   "cell_type": "markdown",
   "id": "3a237973",
   "metadata": {},
   "source": [
    "Use the starter code to extract the bin contents and the bin edges from the `hist` histogram you've made and plot a histogram with matplotlib.\n",
    "\n",
    "Remember to meet the requirements above."
   ]
  },
  {
   "cell_type": "code",
   "execution_count": null,
   "id": "8009aa64",
   "metadata": {},
   "outputs": [],
   "source": []
  },
  {
   "cell_type": "code",
   "execution_count": null,
   "id": "9c60ab29",
   "metadata": {},
   "outputs": [],
   "source": []
  },
  {
   "cell_type": "markdown",
   "id": "1c80156c",
   "metadata": {},
   "source": [
    "If all goes well you should have something like below (after using `mplhep`)\n",
    "\n",
    "![jetmass.png](jetmass.png)\n"
   ]
  }
 ],
 "metadata": {
  "kernelspec": {
   "display_name": "Python 3 (ipykernel)",
   "language": "python",
   "name": "python3"
  },
  "language_info": {
   "codemirror_mode": {
    "name": "ipython",
    "version": 3
   },
   "file_extension": ".py",
   "mimetype": "text/x-python",
   "name": "python",
   "nbconvert_exporter": "python",
   "pygments_lexer": "ipython3",
   "version": "3.9.14"
  }
 },
 "nbformat": 4,
 "nbformat_minor": 5
}
